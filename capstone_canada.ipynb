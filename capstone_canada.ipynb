{
 "cells": [
  {
   "cell_type": "markdown",
   "id": "1aefcec5-c293-4361-81d8-e63c554ef768",
   "metadata": {},
   "source": [
    "# Coursera Capstone - Canada Migration"
   ]
  },
  {
   "cell_type": "code",
   "execution_count": 1,
   "id": "a661240c-3459-4c7c-ae39-b03bdd7edbec",
   "metadata": {},
   "outputs": [
    {
     "name": "stdout",
     "output_type": "stream",
     "text": [
      "Hello Capstone Project Course!\n"
     ]
    }
   ],
   "source": [
    "import pandas as pd\n",
    "import numpy as np\n",
    "print('Hello Capstone Project Course!')"
   ]
  },
  {
   "cell_type": "code",
   "execution_count": null,
   "id": "f2e958de-adaa-4e1b-a64e-b366ee89e125",
   "metadata": {},
   "outputs": [],
   "source": []
  }
 ],
 "metadata": {
  "kernelspec": {
   "display_name": "Python",
   "language": "python",
   "name": "conda-env-python-py"
  },
  "language_info": {
   "codemirror_mode": {
    "name": "ipython",
    "version": 3
   },
   "file_extension": ".py",
   "mimetype": "text/x-python",
   "name": "python",
   "nbconvert_exporter": "python",
   "pygments_lexer": "ipython3",
   "version": "3.6.13"
  }
 },
 "nbformat": 4,
 "nbformat_minor": 5
}
